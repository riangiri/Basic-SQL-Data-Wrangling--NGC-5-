{
  "cells": [
    {
      "cell_type": "markdown",
      "metadata": {},
      "source": [
        "Relational Database Management System with Primary Key - Foreign Key"
      ]
    },
    {
      "cell_type": "markdown",
      "metadata": {
        "id": "NT1-7xNmCr8A"
      },
      "source": [
        "1. Create customers Table"
      ]
    },
    {
      "cell_type": "code",
      "execution_count": null,
      "metadata": {
        "id": "tpEVWbuwwoVz"
      },
      "outputs": [],
      "source": [
        "CREATE TABLE Customers (\n",
        "\tcustomer_id serial primary key,\n",
        "\tCustomer_name varchar NOT NULL,\n",
        "\tcity text\n",
        ");"
      ]
    },
    {
      "cell_type": "markdown",
      "metadata": {
        "id": "kMF-t5JNCyOl"
      },
      "source": [
        "2. Create orders Table"
      ]
    },
    {
      "cell_type": "code",
      "execution_count": null,
      "metadata": {
        "id": "ZfLfDIHuC2e8"
      },
      "outputs": [],
      "source": [
        "Create Table Orders (\n",
        "\torder_id INT GENERATED ALWAYS AS IDENTITY,\n",
        "\tcustomer_id INT,\n",
        "\torder_date date,\n",
        "\ttotal_amount decimal,\n",
        "\tPRIMARY KEY(order_id),\n",
        "\tCONSTRAINT fk_Customers\n",
        "\t\tFOREIGN KEY(customer_id)\n",
        "\t\t\tREFERENCES Customers(customer_id)\n",
        ");"
      ]
    },
    {
      "cell_type": "markdown",
      "metadata": {
        "id": "S-a7w7QCC761"
      },
      "source": [
        "1a. Fill Customers data table\n",
        "\n",
        "   (ISI Tabel customers)"
      ]
    },
    {
      "cell_type": "code",
      "execution_count": null,
      "metadata": {
        "id": "heezwiHoDCfm"
      },
      "outputs": [],
      "source": [
        "insert into customers(customer_name, city)\n",
        "values\n",
        "\t('John Doe', 'New York'),\n",
        "\t('Jane Smith', 'Los Angeles'),\n",
        "\t('David Johnson', 'Chicago')"
      ]
    },
    {
      "cell_type": "markdown",
      "metadata": {
        "id": "qRco6OmtJ_v2"
      },
      "source": [
        "2a. Fill Orders data table\n",
        "\n",
        "   (Isi Tabel Order)"
      ]
    },
    {
      "cell_type": "code",
      "execution_count": null,
      "metadata": {
        "id": "mqapf1cCKCBd"
      },
      "outputs": [],
      "source": [
        "insert into Orders(customer_id, order_date,total_amount)\n",
        "values\n",
        "\t('1','2022-01-10', 100.0),\n",
        "\t('1','2022-02-15', 150.00),\n",
        "\t('2','2022-03-20', 200.00),\n",
        "\t('3','2022-04-25', 50.00)\n"
      ]
    },
    {
      "cell_type": "markdown",
      "metadata": {
        "id": "GM2T0awEDTvN"
      },
      "source": [
        "Query\n",
        "\n",
        "3. Expected Result :"
      ]
    },
    {
      "cell_type": "code",
      "execution_count": null,
      "metadata": {
        "id": "SLyVn8YGDVAs"
      },
      "outputs": [],
      "source": [
        "---Query to retrieve total orders---\n",
        "\n",
        "SELECT customers.customer_name,\n",
        "count(orders.order_id) as Total_orders\n",
        "from customers\n",
        "inner join orders ON customers.customer_id = orders.customer_id\n",
        "Group by customers.customer_name"
      ]
    }
  ],
  "metadata": {
    "colab": {
      "provenance": []
    },
    "kernelspec": {
      "display_name": "Python 3",
      "name": "python3"
    },
    "language_info": {
      "name": "python"
    }
  },
  "nbformat": 4,
  "nbformat_minor": 0
}
